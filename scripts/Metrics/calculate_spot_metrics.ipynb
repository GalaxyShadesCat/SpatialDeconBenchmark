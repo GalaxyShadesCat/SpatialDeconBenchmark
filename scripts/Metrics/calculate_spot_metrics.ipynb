{
 "cells": [
  {
   "metadata": {
    "ExecuteTime": {
     "end_time": "2024-11-28T12:41:26.980529Z",
     "start_time": "2024-11-28T12:41:26.958996Z"
    }
   },
   "cell_type": "code",
   "source": [
    "import os\n",
    "import re\n",
    "\n",
    "# Change directory to the root of the SpatialDeconBenchmark repository\n",
    "os.chdir('/'.join(re.match(r'^(.*SpatialDeconBenchmark)', os.getcwd()).group(0).split('/')))"
   ],
   "outputs": [],
   "execution_count": 1
  },
  {
   "metadata": {
    "ExecuteTime": {
     "end_time": "2024-11-28T12:47:01.936575Z",
     "start_time": "2024-11-28T12:47:01.913450Z"
    }
   },
   "cell_type": "code",
   "source": [
    "import pandas as pd \n",
    "from libpysal.weights import W\n",
    "from scipy.spatial import KDTree\n",
    "from esda.moran import Moran, Moran_Local\n",
    "from scipy.stats import pearsonr\n",
    "\n",
    "\n",
    "class SpotMetrics:\n",
    "    def __init__(self, deconvolved_mtx, st_counts_mtx, st_locations_mtx, _marker_genes_dict):\n",
    "        \"\"\"\n",
    "        Initialize the SpotMetrics class with matrices and marker gene data.\n",
    "\n",
    "        Parameters:\n",
    "        - deconvolved_mtx: DataFrame, spot by celltype matrix.\n",
    "        - st_counts_mtx: DataFrame, gene by spot matrix.\n",
    "        - st_locations_mtx: DataFrame, spot by coordinate matrix.\n",
    "        - marker_genes_dict: dict, mapping cell types to marker genes.\n",
    "        \"\"\"\n",
    "        self.deconvolved_mtx = deconvolved_mtx\n",
    "        self.st_counts_mtx = st_counts_mtx\n",
    "        self.st_locations_mtx = st_locations_mtx\n",
    "        self.marker_genes_dict = _marker_genes_dict\n",
    "        self.pcc = None\n",
    "        self.spatial_weights = None\n",
    "        self.global_moran = None\n",
    "        self.local_moran = None\n",
    "\n",
    "    def check_mtx_format(self):\n",
    "        \"\"\"\n",
    "        Check if matrix formats align correctly across provided dataframes.\n",
    "        Raises ValueError if mismatches are found.\n",
    "        \"\"\"\n",
    "        if set(self.st_counts_mtx.columns) != set(self.st_locations_mtx.index):\n",
    "            raise ValueError(\"Mismatch in spot labels between counts and location matrices.\")\n",
    "\n",
    "        if set(self.st_counts_mtx.columns) != set(self.deconvolved_mtx.index):\n",
    "            print(set(self.st_counts_mtx.columns[:10]))\n",
    "            print(set(self.deconvolved_mtx.index[:10]))\n",
    "            raise ValueError(\"Mismatch in spot labels between counts and deconvolved matrices.\")\n",
    "\n",
    "        # Subset matrices to ensure alignment\n",
    "        self.deconvolved_mtx = self.deconvolved_mtx.loc[self.st_counts_mtx.columns]\n",
    "        self.st_locations_mtx = self.st_locations_mtx.loc[self.st_counts_mtx.columns]\n",
    "\n",
    "    def calculate_pcc(self):\n",
    "        \"\"\"\n",
    "        Calculate Pearson's Correlation Coefficient between estimated cell type abundances\n",
    "        and expressions of canonical marker genes. Results are stored in a dictionary.\n",
    "        \"\"\"\n",
    "        cell_types_pcc = {}\n",
    "\n",
    "        for cell_type, markers in self.marker_genes_dict.items():\n",
    "            marker_pccs = {}\n",
    "            for marker in markers:\n",
    "                # Extract gene expression and cell type abundance\n",
    "                gene_expression = self.st_counts_mtx.loc[marker]\n",
    "                cell_abundance = self.deconvolved_mtx[cell_type]\n",
    "                \n",
    "                # Calculate Pearson correlation\n",
    "                pcc, _ = pearsonr(gene_expression, cell_abundance)\n",
    "                marker_pccs[marker] = pcc\n",
    "\n",
    "            cell_types_pcc[cell_type] = marker_pccs\n",
    "        \n",
    "        self.pcc = cell_types_pcc\n",
    "\n",
    "    def compute_spatial_weights(self, k):\n",
    "        \"\"\"\n",
    "        Compute spatial weights for each spot based on k nearest neighbors.\n",
    "        \"\"\"\n",
    "        # Extract coordinates and build KDTree\n",
    "        xy_coords = self.st_locations_mtx[['x', 'y']].values\n",
    "        tree = KDTree(xy_coords)\n",
    "\n",
    "        weights = {}\n",
    "        for i, coord in enumerate(xy_coords):\n",
    "            distances, indices = tree.query(coord, k=k+1)  # Include self in query\n",
    "            neighbors = indices[1:]  # Exclude the spot itself\n",
    "            weights[i] = {n: 1 for n in neighbors}  # Uniform weight of 1 for each neighbor\n",
    "\n",
    "        self.spatial_weights = W(weights)\n",
    "\n",
    "    def calculate_moran(self):\n",
    "        \"\"\"\n",
    "        Compute Global and Local Moran's I statistics for cell type distributions.\n",
    "        Requires spatial weights to be pre-computed.\n",
    "        \"\"\"\n",
    "        if not hasattr(self, 'spatial_weights'):\n",
    "            raise ValueError(\"Spatial weights must be calculated before Moran's I.\")\n",
    "\n",
    "        global_moran = {}\n",
    "        local_moran = {}\n",
    "\n",
    "        for cell_type in self.deconvolved_mtx.columns:\n",
    "            values = self.deconvolved_mtx[cell_type]\n",
    "            w = self.spatial_weights\n",
    "\n",
    "            # Calculate global and local Moran's I\n",
    "            moran_global = Moran(values, w)\n",
    "            moran_local = Moran_Local(values, w)\n",
    "\n",
    "            global_moran[cell_type] = (moran_global.I, moran_global.p_sim)\n",
    "            local_moran[cell_type] = (moran_local.Is, moran_local.p_sim)\n",
    "\n",
    "        self.global_moran = global_moran\n",
    "        self.local_moran = local_moran"
   ],
   "outputs": [],
   "execution_count": 21
  },
  {
   "metadata": {
    "ExecuteTime": {
     "end_time": "2024-11-28T12:47:02.076246Z",
     "start_time": "2024-11-28T12:47:02.065067Z"
    }
   },
   "cell_type": "code",
   "source": [
    "# Cell types and markers selected for visualization in benchmark paper\n",
    "marker_genes_dict = {\n",
    "    \"Oligo\": [\"Mog\", \"Plp1\"],\n",
    "    \"Ext_Thal\": [\"Synpo2\", \"Ptpn3\", \"Slc17a6\"],\n",
    "    \"Ext_ClauPyr\": [\"Nr4a2\", \"Synpr\"]\n",
    "}"
   ],
   "outputs": [],
   "execution_count": 22
  },
  {
   "cell_type": "code",
   "metadata": {
    "ExecuteTime": {
     "end_time": "2024-11-28T12:51:41.400708Z",
     "start_time": "2024-11-28T12:51:36.038453Z"
    }
   },
   "source": [
    "# Load the Visium deconvolved matrix\n",
    "visium_spatial = pd.read_csv(os.getcwd() + \"/data/Visium/filtered_st_counts.csv\", index_col=0)\n",
    "visium_locations = pd.read_csv(os.getcwd() + \"/data/Visium/filtered_st_locations.csv\", index_col=0)\n",
    "visium_locations.index = list(map(lambda x: \".\".join(x.split(\"-\")), visium_locations.index))\n",
    "\n",
    "results_dir = os.getcwd() + \"/results/Visium/\"\n",
    "benchmark = []"
   ],
   "outputs": [],
   "execution_count": 25
  },
  {
   "metadata": {
    "ExecuteTime": {
     "end_time": "2024-11-28T12:52:00.639169Z",
     "start_time": "2024-11-28T12:51:41.402710Z"
    }
   },
   "cell_type": "code",
   "source": [
    "def run_benchmarking():\n",
    "    for result in os.listdir(results_dir):\n",
    "        method = result.split(\"_\")[1].split(\".\")[0]\n",
    "        \n",
    "        visium_deconvolved = pd.read_csv(results_dir + result, index_col=0)\n",
    "        visium_deconvolved.index = list(map(lambda x: \".\".join(x.split(\"-\")), visium_deconvolved.index))\n",
    "        \n",
    "        visium_metrics = SpotMetrics(visium_deconvolved, visium_spatial, visium_locations, marker_genes_dict)\n",
    "        visium_metrics.check_mtx_format()\n",
    "        visium_metrics.calculate_pcc()\n",
    "        visium_metrics.compute_spatial_weights(6)\n",
    "        visium_metrics.calculate_moran()\n",
    "        \n",
    "        # Collecting data for benchmarking\n",
    "        for cell_type, pcc_values in visium_metrics.pcc.items():\n",
    "            for marker, pcc in pcc_values.items():\n",
    "                global_moran, moran_p_value = visium_metrics.global_moran[cell_type]\n",
    "                data = {\n",
    "                    'method': method,\n",
    "                    'cell_type': cell_type,\n",
    "                    'marker': marker,\n",
    "                    'PCC': pcc,\n",
    "                    'MI': global_moran,\n",
    "                    'MI_p_value': moran_p_value\n",
    "                }\n",
    "                benchmark.append(pd.DataFrame([data]))\n",
    "        \n",
    "        # Prepare dataframes for Local Moran's I and p-values\n",
    "        local_moran_data = []\n",
    "        local_moran_p_values = []\n",
    "\n",
    "        for cell_type in visium_metrics.local_moran:\n",
    "            local_is, p_sim = visium_metrics.local_moran[cell_type]\n",
    "            local_moran_df = pd.DataFrame(local_is, columns=[cell_type], index=visium_metrics.deconvolved_mtx.index)\n",
    "            local_moran_p_df = pd.DataFrame(p_sim, columns=[cell_type], index=visium_metrics.deconvolved_mtx.index)\n",
    "            local_moran_data.append(local_moran_df)\n",
    "            local_moran_p_values.append(local_moran_p_df)\n",
    "\n",
    "        # Concatenate dataframes horizontally (cell types as columns)\n",
    "        all_local_moran = pd.concat(local_moran_data, axis=1)\n",
    "        all_local_p_values = pd.concat(local_moran_p_values, axis=1)\n",
    "\n",
    "        # Save to CSV\n",
    "        all_local_moran.to_csv(f\"{os.getcwd()}/results/Visium_LMI/{method}_LMI.csv\")\n",
    "        all_local_p_values.to_csv(f\"{os.getcwd()}/results/Visium_LMI/{method}_LMI_p_values.csv\")\n",
    "\n",
    "\n",
    "# Run benchmarking\n",
    "run_benchmarking()\n",
    "benchmark = pd.concat(benchmark, ignore_index=True)\n",
    "benchmark.to_csv(os.getcwd() + \"/results/Visium_Benchmarking_Results.csv\", index=False)"
   ],
   "outputs": [
    {
     "name": "stderr",
     "output_type": "stream",
     "text": [
      "C:\\Users\\Lem\\anaconda3\\envs\\metrics-env\\lib\\site-packages\\esda\\moran.py:254: RuntimeWarning: invalid value encountered in scalar divide\n",
      "  k = k_num / k_den\n",
      "C:\\Users\\Lem\\anaconda3\\envs\\metrics-env\\lib\\site-packages\\esda\\moran.py:266: RuntimeWarning: invalid value encountered in scalar divide\n",
      "  return self.n / s0 * inum / self.z2ss\n",
      "C:\\Users\\Lem\\anaconda3\\envs\\metrics-env\\lib\\site-packages\\esda\\moran.py:223: RuntimeWarning: invalid value encountered in divide\n",
      "  self.z /= sy\n",
      "C:\\Users\\Lem\\anaconda3\\envs\\metrics-env\\lib\\site-packages\\esda\\moran.py:254: RuntimeWarning: invalid value encountered in scalar divide\n",
      "  k = k_num / k_den\n",
      "C:\\Users\\Lem\\anaconda3\\envs\\metrics-env\\lib\\site-packages\\esda\\moran.py:266: RuntimeWarning: invalid value encountered in scalar divide\n",
      "  return self.n / s0 * inum / self.z2ss\n",
      "C:\\Users\\Lem\\anaconda3\\envs\\metrics-env\\lib\\site-packages\\esda\\moran.py:223: RuntimeWarning: invalid value encountered in divide\n",
      "  self.z /= sy\n"
     ]
    }
   ],
   "execution_count": 26
  },
  {
   "metadata": {},
   "cell_type": "code",
   "outputs": [],
   "execution_count": null,
   "source": ""
  }
 ],
 "metadata": {
  "kernelspec": {
   "display_name": "base",
   "language": "python",
   "name": "python3"
  },
  "language_info": {
   "codemirror_mode": {
    "name": "ipython",
    "version": 3
   },
   "file_extension": ".py",
   "mimetype": "text/x-python",
   "name": "python",
   "nbconvert_exporter": "python",
   "pygments_lexer": "ipython3",
   "version": "3.9.19"
  }
 },
 "nbformat": 4,
 "nbformat_minor": 2
}
