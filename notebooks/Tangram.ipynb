{
 "cells": [
  {
   "metadata": {},
   "cell_type": "markdown",
   "source": "# Process seqFISH+ data",
   "id": "c46877220c65c6cc"
  },
  {
   "metadata": {
    "ExecuteTime": {
     "end_time": "2024-11-26T13:39:43.664664Z",
     "start_time": "2024-11-26T13:39:43.607225Z"
    }
   },
   "cell_type": "code",
   "source": [
    "# Define the directories\n",
    "seqfish_dir = '../data/seqFISH'\n",
    "visium_dir = '../data/Visium'\n",
    "data_dir = '../data/methods/Tangram'\n",
    "results_dir = '../results'"
   ],
   "id": "1470412db1111551",
   "outputs": [],
   "execution_count": 51
  },
  {
   "metadata": {
    "ExecuteTime": {
     "end_time": "2024-11-26T13:40:53.248007Z",
     "start_time": "2024-11-26T13:40:51.616288Z"
    }
   },
   "cell_type": "code",
   "source": [
    "import os\n",
    "import anndata\n",
    "import pandas as pd\n",
    "\n",
    "# Load dataset CSV files into pandas DataFrames\n",
    "sc_counts = pd.read_csv(f'{seqfish_dir}/sc_counts.csv')\n",
    "sc_labels = pd.read_csv(f'{seqfish_dir}/sc_labels.csv')\n",
    "st_counts = pd.read_csv(f'{seqfish_dir}/st_counts.csv')\n",
    "st_coords = pd.read_csv(f'{seqfish_dir}/st_coords.csv')\n",
    "\n",
    "# Set 'cell_id' as the primary identifier for the single-cell counts data\n",
    "sc_counts = sc_counts.set_index('cell_id')\n",
    "\n",
    "# Generate dictionaries to map cell types to numeric indices for analysis\n",
    "cell_type = list(set(sc_labels.cell_type))\n",
    "cell_type_dict = dict(zip([x + 1 for x in range(len(cell_type))], cell_type))\n",
    "meta_cell_dict = dict(zip([str(x + 1) for x in range(len(cell_type))], cell_type))\n",
    "\n",
    "# Assign numeric clusters based on cell type for easier analysis\n",
    "sc_labels['cluster'] = [cell_type.index(x) + 1 for x in sc_labels.cell_type]\n",
    "\n",
    "# Create the output directory if it doesn't exist\n",
    "if not os.path.isdir(data_dir):\n",
    "    os.mkdir(data_dir)\n",
    "\n",
    "# Prepare and save spatial transcriptomics data as an AnnData object\n",
    "obs = pd.DataFrame({\n",
    "    'x': st_coords.x,\n",
    "    'y': st_coords.y,\n",
    "    'index': st_coords.bin_id.astype(str)\n",
    "})\n",
    "var_names = st_counts.iloc[:, 1:].columns\n",
    "var = pd.DataFrame(index=var_names)\n",
    "X = st_counts.iloc[:, 1:].values\n",
    "st_anndata = anndata.AnnData(X, obs=obs, var=var, dtype='int32')\n",
    "st_anndata.write(f'{data_dir}/seqFISH_st.h5ad')\n",
    "\n",
    "# Prepare and save single-cell transcriptomics data as an AnnData object\n",
    "obs = pd.DataFrame({\n",
    "    'cell_type': sc_labels.cell_type,\n",
    "    'cluster': sc_labels.cluster,\n",
    "    'index': sc_labels.cell_id.astype(str)\n",
    "})\n",
    "var_names = sc_counts.columns\n",
    "var = pd.DataFrame(index=var_names)\n",
    "X = sc_counts.values\n",
    "sc_adata = anndata.AnnData(X, obs=obs, var=var, dtype='int32')\n",
    "sc_adata.write(f'{data_dir}/seqFISH_sc.h5ad')"
   ],
   "id": "ee5166b100dae2db",
   "outputs": [],
   "execution_count": 54
  },
  {
   "metadata": {
    "ExecuteTime": {
     "end_time": "2024-11-26T13:39:48.119367Z",
     "start_time": "2024-11-26T13:39:45.149322Z"
    }
   },
   "cell_type": "code",
   "source": [
    "import pandas as pd\n",
    "import numpy as np\n",
    "import scanpy as sc\n",
    "import tangram as tg\n",
    "import time\n",
    "\n",
    "# Start a timer to measure the execution time of the script\n",
    "start = time.time()\n",
    "\n",
    "# Load single-cell and spatial transcriptomics data from H5AD files\n",
    "ad_sc = sc.read_h5ad(f'{data_dir}/seqFISH_sc.h5ad')\n",
    "ad_sp = sc.read_h5ad(f'{data_dir}/seqFISH_st.h5ad')\n",
    "cell_type_key = 'cell_type'\n",
    "\n",
    "# Normalize the total count to make data comparable\n",
    "sc.pp.normalize_total(ad_sc)\n",
    "\n",
    "# Count how many samples exist for each cell type and drop types with less than 2 samples\n",
    "cell_type_counts = ad_sc.obs[cell_type_key].value_counts()\n",
    "cell_type_drop = cell_type_counts.index[cell_type_counts < 2]\n",
    "\n",
    "if cell_type_drop.size > 0:\n",
    "    print(f\"Drop cell type(s) {', '.join(list(cell_type_drop))}, as they have less than 2 samples.\")\n",
    "    ad_sc = ad_sc[~ad_sc.obs[cell_type_key].isin(cell_type_drop),].copy()\n",
    "\n",
    "# Rank genes within groups defined by cell type to find markers\n",
    "sc.tl.rank_genes_groups(ad_sc, groupby=cell_type_key, use_raw=False)\n",
    "markers_df = pd.DataFrame(ad_sc.uns[\"rank_genes_groups\"][\"names\"]).iloc[0:200, :]\n",
    "print(\"Top 10 markers for each cell type:\")\n",
    "print(markers_df.head(10))\n",
    "\n",
    "# Extract and print the list of unique gene markers\n",
    "genes_sc = np.unique(markers_df.melt().value.values)\n",
    "print(f\"\\nUnique gene markers: {', '.join(genes_sc[:10])}, ...\\n\")\n",
    "\n",
    "# Retrieve genes names from spatial data\n",
    "genes_st = ad_sp.var_names.values\n",
    "\n",
    "# Determine the intersection of gene lists from single-cell and spatial data\n",
    "genes = list(set(genes_sc).intersection(set(genes_st)))\n",
    "\n",
    "# Preprocess the AnnData objects to filter and align them by the intersecting gene list\n",
    "tg.pp_adatas(ad_sc, ad_sp, genes=genes)\n",
    "\n",
    "# Map single-cell data onto spatial locations using the Tangram algorithm\n",
    "ad_map = tg.map_cells_to_space(\n",
    "    ad_sc,\n",
    "    ad_sp,\n",
    "    mode='clusters',\n",
    "    cluster_label=cell_type_key)\n",
    "\n",
    "# Project annotations from single-cell data to spatial data\n",
    "tg.project_cell_annotations(ad_map, ad_sp, annotation=cell_type_key)\n",
    "\n",
    "# Calculate and normalize cell-type densities based on the mapped data\n",
    "cell_type_density = ad_sp.obsm['tangram_ct_pred']\n",
    "cell_type_density = (cell_type_density.T / cell_type_density.sum(axis=1)).T\n",
    "\n",
    "# Save the cell-type density data to a CSV file\n",
    "cell_type_density.to_csv(f'{results_dir}/seqFISH_Tangram.csv')\n",
    "\n",
    "# Calculate and print the total execution time of the script\n",
    "end = time.time()\n",
    "print(f\"Execution time: {end - start:.2f} seconds\")"
   ],
   "id": "a773f322cb591edc",
   "outputs": [
    {
     "name": "stdout",
     "output_type": "stream",
     "text": [
      "WARNING: Default of the method has been changed to 't-test' from 't-test_overestim_var'\n"
     ]
    },
    {
     "name": "stderr",
     "output_type": "stream",
     "text": [
      "INFO:root:1118 training genes are saved in `uns``training_genes` of both single cell and spatial Anndatas.\n",
      "INFO:root:10000 overlapped genes are saved in `uns``overlap_genes` of both single cell and spatial Anndatas.\n",
      "INFO:root:uniform based density prior is calculated and saved in `obs``uniform_density` of the spatial Anndata.\n",
      "INFO:root:rna count based density prior is calculated and saved in `obs``rna_count_based_density` of the spatial Anndata.\n",
      "INFO:root:Allocate tensors for mapping.\n",
      "INFO:root:Begin training with 1118 genes and rna_count_based density_prior in clusters mode...\n",
      "INFO:root:Printing scores every 100 epochs.\n"
     ]
    },
    {
     "name": "stdout",
     "output_type": "stream",
     "text": [
      "Top 10 markers for each cell type:\n",
      "  astrocyte    endo  eneuron ineuron  microglia      olig\n",
      "0      gja1    pltp  slc17a7  slc32a1     csf1r    cldn11\n",
      "1    atp1b2  col4a2   clstn1   pcp4l1     itgb5       mag\n",
      "2     fgfr3     eng   lingo1   diras1       grn       cnp\n",
      "3     htra1  slc7a5     ngef    cend1    laptm5      gjc2\n",
      "4   gpr37l1   epas1    icam5    rpp25    cx3cr1   gal3st1\n",
      "5   fam107a    nid1    car10   eef1a2    selplg      fa2h\n",
      "6  slc9a3r1  apcdd1     gnaz    rcan2      ctsd       gsn\n",
      "7    acsbg1   cldn5    prrt3    kcnc1     itgam       mog\n",
      "8     ttyh1   igf1r    stx1a   slc6a1      bin2  arhgef10\n",
      "9   slc27a1   ltbp4    mmp17  zfp385a    coro1a     abca2\n",
      "\n",
      "Unique gene markers: 1700042g15rik, aacs, aatk, abat, abca1, abca2, abca3, abcg4, abhd12, abhd2, ...\n",
      "\n",
      "Score: 0.616, KL reg: 0.424\n",
      "Score: 0.895, KL reg: 0.001\n",
      "Score: 0.896, KL reg: 0.000\n",
      "Score: 0.896, KL reg: 0.000\n",
      "Score: 0.897, KL reg: 0.000\n",
      "Score: 0.897, KL reg: 0.000\n",
      "Score: 0.897, KL reg: 0.000\n",
      "Score: 0.897, KL reg: 0.000\n",
      "Score: 0.897, KL reg: 0.000\n",
      "Score: 0.897, KL reg: 0.000\n"
     ]
    },
    {
     "name": "stderr",
     "output_type": "stream",
     "text": [
      "INFO:root:Saving results..\n",
      "INFO:root:spatial prediction dataframe is saved in `obsm` `tangram_ct_pred` of the spatial AnnData.\n"
     ]
    },
    {
     "name": "stdout",
     "output_type": "stream",
     "text": [
      "Execution time: 2.94 seconds\n"
     ]
    }
   ],
   "execution_count": 53
  },
  {
   "metadata": {
    "ExecuteTime": {
     "end_time": "2024-11-26T13:39:48.134754Z",
     "start_time": "2024-11-26T13:39:48.121265Z"
    }
   },
   "cell_type": "code",
   "source": "",
   "id": "57b2f6fd8c2e5ba2",
   "outputs": [],
   "execution_count": 53
  }
 ],
 "metadata": {
  "kernelspec": {
   "display_name": "Python 3",
   "language": "python",
   "name": "python3"
  },
  "language_info": {
   "codemirror_mode": {
    "name": "ipython",
    "version": 2
   },
   "file_extension": ".py",
   "mimetype": "text/x-python",
   "name": "python",
   "nbconvert_exporter": "python",
   "pygments_lexer": "ipython2",
   "version": "2.7.6"
  }
 },
 "nbformat": 4,
 "nbformat_minor": 5
}
