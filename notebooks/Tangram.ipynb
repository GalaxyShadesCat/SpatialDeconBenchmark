{
 "cells": [
  {
   "metadata": {
    "ExecuteTime": {
     "end_time": "2024-11-27T04:12:23.772303Z",
     "start_time": "2024-11-27T04:12:23.756482Z"
    }
   },
   "cell_type": "code",
   "source": [
    "# Define the directories\n",
    "seqfish_dir = '../data/seqFISH'\n",
    "visium_dir = '../data/Visium'\n",
    "data_dir = '../data/methods/Tangram'\n",
    "results_dir = '../results'\n",
    "\n",
    "seqfish_sc_file = f'{data_dir}/seqFISH_sc.h5ad'\n",
    "seqfish_st_file = f'{data_dir}/seqFISH_st.h5ad'\n",
    "visium_sc_file = f'{data_dir}/visium_sc.h5ad'\n",
    "visium_st_file = f'{data_dir}/visium_st.h5ad'"
   ],
   "id": "1470412db1111551",
   "outputs": [],
   "execution_count": 29
  },
  {
   "metadata": {},
   "cell_type": "markdown",
   "source": "## Process seqFISH+ data",
   "id": "8b7fdafe6eace401"
  },
  {
   "metadata": {
    "ExecuteTime": {
     "end_time": "2024-11-27T04:12:26.801480Z",
     "start_time": "2024-11-27T04:12:23.785282Z"
    }
   },
   "cell_type": "code",
   "source": [
    "import os\n",
    "import anndata\n",
    "import pandas as pd\n",
    "\n",
    "# Load dataset CSV files into pandas DataFrames\n",
    "sc_counts = pd.read_csv(f'{seqfish_dir}/sc_counts.csv')\n",
    "sc_labels = pd.read_csv(f'{seqfish_dir}/sc_labels.csv')\n",
    "st_counts = pd.read_csv(f'{seqfish_dir}/st_counts.csv')\n",
    "st_coords = pd.read_csv(f'{seqfish_dir}/st_coords.csv')\n",
    "\n",
    "print(f\"Single-cell counts: {sc_counts.shape}\")\n",
    "print(f\"Single-cell labels: {sc_labels.shape}\")\n",
    "print(f\"Spatial counts: {st_counts.shape}\")\n",
    "print(f\"Spatial coordinates: {st_coords.shape}\")\n",
    "print(st_counts.dtypes)\n",
    "\n",
    "# Set 'cell_id' as the primary identifier for the single-cell counts data\n",
    "sc_counts = sc_counts.set_index('cell_id')\n",
    "\n",
    "# Generate dictionaries to map cell types to numeric indices for analysis\n",
    "cell_type = list(set(sc_labels.cell_type))\n",
    "cell_type_dict = dict(zip([x + 1 for x in range(len(cell_type))], cell_type))\n",
    "meta_cell_dict = dict(zip([str(x + 1) for x in range(len(cell_type))], cell_type))\n",
    "\n",
    "# Assign numeric clusters based on cell type for easier analysis\n",
    "sc_labels['cluster'] = [cell_type.index(x) + 1 for x in sc_labels.cell_type]\n",
    "\n",
    "# Create the output directory if it doesn't exist\n",
    "if not os.path.isdir(data_dir):\n",
    "    os.mkdir(data_dir)\n",
    "\n",
    "# Prepare and save spatial transcriptomics data as an AnnData object\n",
    "obs = pd.DataFrame({\n",
    "    'x': st_coords.x,\n",
    "    'y': st_coords.y,\n",
    "    'index': st_coords.bin_id.astype(str)\n",
    "})\n",
    "var_names = st_counts.iloc[:, 1:].columns\n",
    "var = pd.DataFrame(index=var_names)\n",
    "\n",
    "obs.index = obs.index.astype(str)\n",
    "var.index = var.index.astype(str)\n",
    "\n",
    "X = st_counts.iloc[:, 1:].values\n",
    "st_anndata = anndata.AnnData(X, obs=obs, var=var, dtype='int32')\n",
    "st_anndata.write(seqfish_st_file)\n",
    "\n",
    "# Prepare and save single-cell transcriptomics data as an AnnData object\n",
    "obs = pd.DataFrame({\n",
    "    'cell_type': sc_labels.cell_type,\n",
    "    'cluster': sc_labels.cluster,\n",
    "    'index': sc_labels.cell_id.astype(str)\n",
    "})\n",
    "var_names = sc_counts.columns\n",
    "var = pd.DataFrame(index=var_names)\n",
    "\n",
    "obs.index = obs.index.astype(str)\n",
    "var.index = var.index.astype(str)\n",
    "\n",
    "X = sc_counts.values\n",
    "sc_adata = anndata.AnnData(X, obs=obs, var=var, dtype='int32')\n",
    "sc_adata.write(seqfish_sc_file)"
   ],
   "id": "ee5166b100dae2db",
   "outputs": [
    {
     "name": "stdout",
     "output_type": "stream",
     "text": [
      "Single-cell counts: (576, 10001)\n",
      "Single-cell labels: (576, 2)\n",
      "Spatial counts: (94, 10001)\n",
      "Spatial coordinates: (94, 3)\n",
      "bin_id           int64\n",
      "1700022a21rik    int64\n",
      "1700025g04rik    int64\n",
      "4933401b06rik    int64\n",
      "5830417i10rik    int64\n",
      "                 ...  \n",
      "pde6b            int64\n",
      "zp1              int64\n",
      "dlx4             int64\n",
      "opn1sw           int64\n",
      "pramef12         int64\n",
      "Length: 10001, dtype: object\n"
     ]
    }
   ],
   "execution_count": 30
  },
  {
   "metadata": {},
   "cell_type": "markdown",
   "source": "## Process Visium data",
   "id": "b8f6c03e46a618ae"
  },
  {
   "metadata": {
    "ExecuteTime": {
     "end_time": "2024-11-27T04:13:02.758782Z",
     "start_time": "2024-11-27T04:12:26.801480Z"
    }
   },
   "cell_type": "code",
   "source": [
    "# Load dataset CSV files into pandas DataFrames\n",
    "sc_counts = pd.read_csv(f'{visium_dir}/filtered_sc_counts.csv', index_col=0)\n",
    "sc_labels = pd.read_csv(f'{visium_dir}/filtered_sc_annotations.csv')\n",
    "st_counts = pd.read_csv(f'{visium_dir}/filtered_st_counts.csv', index_col=0)\n",
    "st_coords = pd.read_csv(f'{visium_dir}/filtered_st_locations.csv')\n",
    "\n",
    "# Transpose the spatial data to match the format\n",
    "sc_counts = sc_counts.T\n",
    "st_counts = st_counts.T\n",
    "\n",
    "# Convert sc_labels\n",
    "sc_labels = sc_labels[['Cell.ID', 'annotation_benchmark']].rename(columns={\n",
    "    'Cell.ID': 'cell_id',\n",
    "    'annotation_benchmark': 'cell_type'\n",
    "})\n",
    "\n",
    "print(f\"Single-cell counts: {sc_counts.shape}\")\n",
    "print(f\"Single-cell labels: {sc_labels.shape}\")\n",
    "print(f\"Spatial counts: {st_counts.shape}\")\n",
    "print(f\"Spatial coordinates: {st_coords.shape}\")\n",
    "\n",
    "# Generate dictionaries to map cell types to numeric indices for analysis\n",
    "cell_type = list(set(sc_labels.cell_type))\n",
    "cell_type_dict = dict(zip([x + 1 for x in range(len(cell_type))], cell_type))\n",
    "meta_cell_dict = dict(zip([str(x + 1) for x in range(len(cell_type))], cell_type))\n",
    "\n",
    "# Assign numeric clusters based on cell type for easier analysis\n",
    "sc_labels['cluster'] = [cell_type.index(x) + 1 for x in sc_labels.cell_type]\n",
    "\n",
    "# Create the output directory if it doesn't exist\n",
    "if not os.path.isdir(data_dir):\n",
    "    os.mkdir(data_dir)\n",
    "\n",
    "# Prepare and save spatial transcriptomics data as an AnnData object\n",
    "obs = pd.DataFrame({\n",
    "    'x': st_coords.x,\n",
    "    'y': st_coords.y,\n",
    "    'index': st_coords.index.astype(str)\n",
    "})\n",
    "var_names = st_counts.columns\n",
    "var = pd.DataFrame(index=var_names)\n",
    "\n",
    "obs.set_index('index', inplace=True)\n",
    "obs.index = obs.index.astype(str)\n",
    "var.index = var.index.astype(str)\n",
    "\n",
    "X = st_counts.values\n",
    "st_anndata = anndata.AnnData(X, obs=obs, var=var, dtype='int32')\n",
    "st_anndata.write(visium_st_file)\n",
    "\n",
    "# Prepare and save single-cell transcriptomics data as an AnnData object\n",
    "obs = pd.DataFrame({\n",
    "    'cell_type': sc_labels.cell_type,\n",
    "    'cluster': sc_labels.cluster,\n",
    "    'index': sc_labels.cell_id.astype(str)\n",
    "})\n",
    "var_names = sc_counts.columns\n",
    "var = pd.DataFrame(index=var_names)\n",
    "\n",
    "obs.index = obs.index.astype(str)\n",
    "var.index = var.index.astype(str)\n",
    "\n",
    "X = sc_counts.values\n",
    "sc_adata = anndata.AnnData(X, obs=obs, var=var, dtype='int32')\n",
    "sc_adata.write(visium_sc_file)"
   ],
   "id": "cb325c4f086804aa",
   "outputs": [
    {
     "name": "stdout",
     "output_type": "stream",
     "text": [
      "Single-cell counts: (8147, 31053)\n",
      "Single-cell labels: (8147, 2)\n",
      "Spatial counts: (2987, 31053)\n",
      "Spatial coordinates: (2987, 3)\n"
     ]
    }
   ],
   "execution_count": 31
  },
  {
   "metadata": {},
   "cell_type": "markdown",
   "source": "## Benchmark Tangram",
   "id": "1b6386cdc3205d94"
  },
  {
   "metadata": {
    "ExecuteTime": {
     "end_time": "2024-11-27T04:16:03.808684Z",
     "start_time": "2024-11-27T04:13:02.758782Z"
    }
   },
   "cell_type": "code",
   "source": [
    "import pandas as pd\n",
    "import numpy as np\n",
    "import scanpy as sc\n",
    "import tangram as tg\n",
    "import time\n",
    "\n",
    "\n",
    "def get_results(sc_file, st_file, db_name, cell_type_key='cell_type'):\n",
    "    # Start a timer to measure the execution time of the script\n",
    "    start = time.time()\n",
    "    \n",
    "    # Load single-cell and spatial transcriptomics data from H5AD files\n",
    "    ad_sc = sc.read_h5ad(sc_file)\n",
    "    ad_st = sc.read_h5ad(st_file)\n",
    "\n",
    "    # Normalize the total count to make data comparable\n",
    "    sc.pp.normalize_total(ad_sc)\n",
    "    \n",
    "    # Count how many samples exist for each cell type and drop types with less than 2 samples\n",
    "    cell_type_counts = ad_sc.obs[cell_type_key].value_counts()\n",
    "    cell_type_drop = cell_type_counts.index[cell_type_counts < 2]\n",
    "    \n",
    "    if cell_type_drop.size > 0:\n",
    "        print(f\"Drop cell type(s) {', '.join(list(cell_type_drop))}, as they have less than 2 samples.\")\n",
    "        ad_sc = ad_sc[~ad_sc.obs[cell_type_key].isin(cell_type_drop),].copy()\n",
    "    \n",
    "    # Rank genes within groups defined by cell type to find markers\n",
    "    sc.tl.rank_genes_groups(ad_sc, groupby=cell_type_key, use_raw=False)\n",
    "    markers_df = pd.DataFrame(ad_sc.uns[\"rank_genes_groups\"][\"names\"]).iloc[0:200, :]\n",
    "    print(\"Top 10 markers for each cell type:\")\n",
    "    print(markers_df.head(10))\n",
    "    \n",
    "    # Extract and print the list of unique gene markers\n",
    "    genes_sc = np.unique(markers_df.melt().value.values)\n",
    "    \n",
    "    # Retrieve genes names from spatial data\n",
    "    genes_st = ad_st.var_names.values\n",
    "    \n",
    "    # Determine the intersection of gene lists from single-cell and spatial data\n",
    "    genes = list(set(genes_sc).intersection(set(genes_st)))\n",
    "    \n",
    "    # Preprocess the AnnData objects to filter and align them by the intersecting gene list\n",
    "    tg.pp_adatas(ad_sc, ad_st, genes=genes)\n",
    "    \n",
    "    # Map single-cell data onto spatial locations using the Tangram algorithm\n",
    "    ad_map = tg.map_cells_to_space(\n",
    "        ad_sc,\n",
    "        ad_st,\n",
    "        mode='clusters',\n",
    "        cluster_label=cell_type_key)\n",
    "    \n",
    "    # Project annotations from single-cell data to spatial data\n",
    "    tg.project_cell_annotations(ad_map, ad_st, annotation=cell_type_key)\n",
    "    \n",
    "    # Calculate and normalize cell-type densities based on the mapped data\n",
    "    cell_type_density = ad_st.obsm['tangram_ct_pred']\n",
    "    cell_type_density = (cell_type_density.T / cell_type_density.sum(axis=1)).T\n",
    "    \n",
    "    # Save the cell-type density data to a CSV file\n",
    "    cell_type_density.to_csv(f'{results_dir}/{db_name}_Tangram.csv')\n",
    "    \n",
    "    # Calculate and print the total execution time of the script\n",
    "    end = time.time()\n",
    "    print(f\"Execution time: {end - start:.2f} seconds\")\n",
    "    \n",
    "print(\"Results for seqFISH data:\")\n",
    "get_results(sc_file=seqfish_sc_file, st_file=seqfish_st_file, db_name='seqFISH')\n",
    "\n",
    "print(\"\\nResults for Visium data:\")\n",
    "get_results(sc_file=visium_sc_file, st_file=visium_st_file, db_name='Visium')"
   ],
   "id": "a773f322cb591edc",
   "outputs": [
    {
     "name": "stdout",
     "output_type": "stream",
     "text": [
      "Results for seqFISH data:\n",
      "WARNING: Default of the method has been changed to 't-test' from 't-test_overestim_var'\n"
     ]
    },
    {
     "name": "stderr",
     "output_type": "stream",
     "text": [
      "INFO:root:1118 training genes are saved in `uns``training_genes` of both single cell and spatial Anndatas.\n",
      "INFO:root:10000 overlapped genes are saved in `uns``overlap_genes` of both single cell and spatial Anndatas.\n",
      "INFO:root:uniform based density prior is calculated and saved in `obs``uniform_density` of the spatial Anndata.\n",
      "INFO:root:rna count based density prior is calculated and saved in `obs``rna_count_based_density` of the spatial Anndata.\n",
      "INFO:root:Allocate tensors for mapping.\n",
      "INFO:root:Begin training with 1118 genes and rna_count_based density_prior in clusters mode...\n",
      "INFO:root:Printing scores every 100 epochs.\n"
     ]
    },
    {
     "name": "stdout",
     "output_type": "stream",
     "text": [
      "Top 10 markers for each cell type:\n",
      "  astrocyte    endo  eneuron ineuron  microglia      olig\n",
      "0      gja1    pltp  slc17a7  slc32a1     csf1r    cldn11\n",
      "1    atp1b2  col4a2   clstn1   pcp4l1     itgb5       mag\n",
      "2     fgfr3     eng   lingo1   diras1       grn       cnp\n",
      "3     htra1  slc7a5     ngef    cend1    laptm5      gjc2\n",
      "4   gpr37l1   epas1    icam5    rpp25    cx3cr1   gal3st1\n",
      "5   fam107a    nid1    car10   eef1a2    selplg      fa2h\n",
      "6  slc9a3r1  apcdd1     gnaz    rcan2      ctsd       gsn\n",
      "7    acsbg1   cldn5    prrt3    kcnc1     itgam       mog\n",
      "8     ttyh1   igf1r    stx1a   slc6a1      bin2  arhgef10\n",
      "9   slc27a1   ltbp4    mmp17  zfp385a    coro1a     abca2\n",
      "Score: 0.610, KL reg: 0.464\n",
      "Score: 0.894, KL reg: 0.000\n",
      "Score: 0.896, KL reg: 0.000\n",
      "Score: 0.896, KL reg: 0.000\n",
      "Score: 0.896, KL reg: 0.000\n",
      "Score: 0.897, KL reg: 0.000\n",
      "Score: 0.897, KL reg: 0.000\n",
      "Score: 0.897, KL reg: 0.000\n",
      "Score: 0.897, KL reg: 0.000\n",
      "Score: 0.897, KL reg: 0.000\n"
     ]
    },
    {
     "name": "stderr",
     "output_type": "stream",
     "text": [
      "INFO:root:Saving results..\n",
      "INFO:root:spatial prediction dataframe is saved in `obsm` `tangram_ct_pred` of the spatial AnnData.\n"
     ]
    },
    {
     "name": "stdout",
     "output_type": "stream",
     "text": [
      "Execution time: 3.75 seconds\n",
      "\n",
      "Results for Visium data:\n",
      "WARNING: Default of the method has been changed to 't-test' from 't-test_overestim_var'\n",
      "Top 10 markers for each cell type:\n",
      "  Astro_AMY Astro_AMY_CTX Astro_CTX Astro_HPC Astro_HYPO Astro_STR  \\\n",
      "0       Ntm          Gpc5      Gpc5     Nrxn1        Ntm      Gpc5   \n",
      "1    Slc1a2         Nrxn1     Lsamp      Gpc5      Nrxn1       Ezr   \n",
      "2     Wdr17        Slc1a2       Ntm       Ntm      Npas3     Pipox   \n",
      "3      Msi2         Lsamp    Slc1a2    Slc1a2       Apoe      Lgi4   \n",
      "4      Gpc5           Ntm     Nrxn1     Wdr17       Gpc5      Sox9   \n",
      "5     Nrxn1         Wdr17      Msi2      Msi2     Slc4a4     Tex12   \n",
      "6     Npas3          Msi2     Wdr17       Cpe       Msi2    Cyp2u1   \n",
      "7    Atp1a2        Tspan7    Gm3764     Lsamp      Trpm3      Pld2   \n",
      "8      Apoe        Slc1a3     Luzp2    Slc1a3      Wdr17   Slc41a1   \n",
      "9    Slc1a3         Npas3    Slc1a3    Gabrb1     Gm3764      Gldc   \n",
      "\n",
      "  Astro_THAL_hab Astro_THAL_lat Astro_THAL_med Astro_WM  ... Inh_Meis2  \\\n",
      "0         Slc4a4          Trpm3          Trpm3     Cst3  ...     Meis2   \n",
      "1           Rora           Gpc5           Gpc5    Wdr17  ...     Fgf14   \n",
      "2            Ntm            Ntm          Nrxn1     Msi2  ...      Dlg2   \n",
      "3          Ncoa1         Slc4a4         Slc4a4   Ctnnd2  ...      Grm5   \n",
      "4            Fry          Npas3          Lsamp    Nrxn1  ...     Celf2   \n",
      "5           Pygb          Lsamp            Ntm    Rgs20  ...     Kcnd2   \n",
      "6        Sparcl1         Atp1a2          Npas3   Gm3764  ...      Nrg1   \n",
      "7          Npas3          Nrxn1           Rora     Rora  ...      Dgkb   \n",
      "8          Trps1          Sfxn5         Ctnnd2   Gabrb1  ...     Nrxn3   \n",
      "9          Phkg1           Rora        Pitpnc1     Nfia  ...      Rarb   \n",
      "\n",
      "  Inh_Pvalb Inh_Sst  Inh_Vip     LowQ     Micro       Nb     OPC    Oligo  \\\n",
      "0    Snhg11  Snhg11     Meg3    Tshz2     Zfhx3   Zbtb20   Lsamp   Nkain2   \n",
      "1     Erbb4   Nrxn3   Snhg11  Gm26883    Plxdc2     Tcf4  Lhfpl3     Plp1   \n",
      "2    Dlgap1   Grip1    Nrxn3     Etl4    Inpp5d    Auts2     Tnr    Pde4b   \n",
      "3      Meg3    Meg3    Erbb4   Frmpd4     Tanc2     Nfib   Dscam      Mbp   \n",
      "4      Hcn1   Nxph1     Tcf4  Gm28905    Srgap2   Ctnna2    Epn2  Slc24a2   \n",
      "5    Dlgap2    Xkr4  Galntl6   Gabrg3     Elmo1  Igfbpl1    Sox6    Pcdh9   \n",
      "6    Rbfox1   Ube3a   Adarb2      Dcc     Dock8    Ttc28  Ptprz1       Qk   \n",
      "7     Ube3a    Etl4    Nrxn1    Adcy2   Slco2b1     Nfia   Xylt1   Tmeff2   \n",
      "8     Fgf12   Ptprm    Npas3   Gm2163  Arhgap45   Plxna4  Lrrc4c     St18   \n",
      "9      Sox6  Elavl2  Gm26905    Olfm3      Hexb   Sema3c  Pcdh15    Prr5l   \n",
      "\n",
      "        Unk  \n",
      "0   Gm42418  \n",
      "1      Actb  \n",
      "2     Calm1  \n",
      "3       Ubb  \n",
      "4  AY036118  \n",
      "5    Tmsb4x  \n",
      "6    Pcsk1n  \n",
      "7     Calm2  \n",
      "8       Cck  \n",
      "9    Snap25  \n",
      "\n",
      "[10 rows x 40 columns]\n"
     ]
    },
    {
     "name": "stderr",
     "output_type": "stream",
     "text": [
      "INFO:root:2682 training genes are saved in `uns``training_genes` of both single cell and spatial Anndatas.\n",
      "INFO:root:21058 overlapped genes are saved in `uns``overlap_genes` of both single cell and spatial Anndatas.\n",
      "INFO:root:uniform based density prior is calculated and saved in `obs``uniform_density` of the spatial Anndata.\n",
      "INFO:root:rna count based density prior is calculated and saved in `obs``rna_count_based_density` of the spatial Anndata.\n",
      "INFO:root:Allocate tensors for mapping.\n",
      "INFO:root:Begin training with 2682 genes and rna_count_based density_prior in clusters mode...\n",
      "INFO:root:Printing scores every 100 epochs.\n"
     ]
    },
    {
     "name": "stdout",
     "output_type": "stream",
     "text": [
      "Score: 0.440, KL reg: 0.196\n",
      "Score: 0.605, KL reg: 0.000\n",
      "Score: 0.606, KL reg: 0.000\n",
      "Score: 0.607, KL reg: 0.000\n",
      "Score: 0.607, KL reg: 0.000\n",
      "Score: 0.607, KL reg: 0.000\n",
      "Score: 0.607, KL reg: 0.000\n",
      "Score: 0.607, KL reg: 0.000\n",
      "Score: 0.607, KL reg: 0.000\n",
      "Score: 0.607, KL reg: 0.000\n"
     ]
    },
    {
     "name": "stderr",
     "output_type": "stream",
     "text": [
      "INFO:root:Saving results..\n",
      "INFO:root:spatial prediction dataframe is saved in `obsm` `tangram_ct_pred` of the spatial AnnData.\n"
     ]
    },
    {
     "name": "stdout",
     "output_type": "stream",
     "text": [
      "Execution time: 177.28 seconds\n"
     ]
    }
   ],
   "execution_count": 32
  },
  {
   "metadata": {
    "ExecuteTime": {
     "end_time": "2024-11-27T04:16:03.824840Z",
     "start_time": "2024-11-27T04:16:03.811197Z"
    }
   },
   "cell_type": "code",
   "source": "",
   "id": "57b2f6fd8c2e5ba2",
   "outputs": [],
   "execution_count": 32
  }
 ],
 "metadata": {
  "kernelspec": {
   "display_name": "Python 3",
   "language": "python",
   "name": "python3"
  },
  "language_info": {
   "codemirror_mode": {
    "name": "ipython",
    "version": 2
   },
   "file_extension": ".py",
   "mimetype": "text/x-python",
   "name": "python",
   "nbconvert_exporter": "python",
   "pygments_lexer": "ipython2",
   "version": "2.7.6"
  }
 },
 "nbformat": 4,
 "nbformat_minor": 5
}
